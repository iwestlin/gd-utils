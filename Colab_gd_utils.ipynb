{
  "nbformat": 4,
  "nbformat_minor": 0,
  "metadata": {
    "colab": {
      "name": "Colab-gd-utils.ipynb",
      "provenance": [],
      "toc_visible": true
    },
    "kernelspec": {
      "name": "python3",
      "display_name": "Python 3"
    }
  },
  "cells": [
    {
      "cell_type": "markdown",
      "metadata": {
        "id": "3Z8cK8h2Avbv",
        "colab_type": "text"
      },
      "source": [
        "### <font size=5px color=\"#95C7AE\">防止Google Colab自动断开代码:</font>\n",
        "<p><font size=3px > 每60分钟自动运行代码刷新，解除90分钟断开限制.\n",
        "<p><font size=3px > 使用方法：colab页面按下 F12或者 Ctrl+Shift+I    (mac按 Option+Command+I) 在console（控制台） 输入以下代码并回车. </p><b>复制以下代码粘贴在浏览器console！！不要关闭浏览器以免失效</b>\n",
        "\n",
        "\n",
        "```javascript\n",
        "function ClickConnect(){ console.log(\"Working\"); document.querySelector(\"colab-connect-button\").click() }setInterval(ClickConnect,6000)\n",
        "```"
      ]
    },
    {
      "cell_type": "code",
      "metadata": {
        "id": "jtClEMAMLVHw",
        "colab_type": "code",
        "cellView": "form",
        "colab": {
          "base_uri": "https://localhost:8080/",
          "height": 34
        },
        "outputId": "e35bd05e-bf44-4a7e-bcdb-b2271bd7723e"
      },
      "source": [
        "#@markdown <h3>← 输入了代码后运行以防止断开</h>\n",
        "\n",
        "\n",
        "import IPython\n",
        "from google.colab import output\n",
        "\n",
        "display(IPython.display.Javascript('''\n",
        " function ClickConnect(){\n",
        "   btn = document.querySelector(\"colab-connect-button\")\n",
        "   if (btn != null){\n",
        "     console.log(\"Click colab-connect-button\"); \n",
        "     btn.click() \n",
        "     }\n",
        "   \n",
        "   btn = document.getElementById('ok')\n",
        "   if (btn != null){\n",
        "     console.log(\"Click reconnect\"); \n",
        "     btn.click() \n",
        "     }\n",
        "  }\n",
        "  \n",
        "setInterval(ClickConnect,60000)\n",
        "'''))\n",
        "\n",
        "print(\"Done.\")"
      ],
      "execution_count": 1,
      "outputs": [
        {
          "output_type": "display_data",
          "data": {
            "application/javascript": [
              "\n",
              " function ClickConnect(){\n",
              "   btn = document.querySelector(\"colab-connect-button\")\n",
              "   if (btn != null){\n",
              "     console.log(\"Click colab-connect-button\"); \n",
              "     btn.click() \n",
              "     }\n",
              "   \n",
              "   btn = document.getElementById('ok')\n",
              "   if (btn != null){\n",
              "     console.log(\"Click reconnect\"); \n",
              "     btn.click() \n",
              "     }\n",
              "  }\n",
              "  \n",
              "setInterval(ClickConnect,60000)\n"
            ],
            "text/plain": [
              "<IPython.core.display.Javascript object>"
            ]
          },
          "metadata": {
            "tags": []
          }
        },
        {
          "output_type": "stream",
          "text": [
            "Done.\n"
          ],
          "name": "stdout"
        }
      ]
    },
    {
      "cell_type": "markdown",
      "metadata": {
        "colab_type": "text",
        "id": "ICXqpDfanEX-"
      },
      "source": [
        "### <font size=5px color=\"#95C7AE\">第一次使用必读:</font>\n",
        "<p><font size=3px color=\"#95C7AE\">第一次使用请将SA的 json文件放在 <b>sa</b>  文件夹下，并将文件夹上传至你下面将要挂载的网盘的根目录。之后先运行页面最下方的打包sa文件夹命令，因此命令只需运行一次，故放在最下方</font>\n",
        "\n",
        "\n",
        "（如果你使用过gclone. Autoclone, FolderClone可以在相应的account文件夹下发现他们,如果从未使用过，请根据原作者GitHub的介绍生成）\n",
        "\n",
        "<p><font size=3px >本Colab基于iwestlin大佬的谷歌百宝箱制作而成，并作了相应修改使其适合在Colab上运行，原项目地址：https://github.com/iwestlin/gd-utils.\n"
      ]
    },
    {
      "cell_type": "code",
      "metadata": {
        "id": "VoQCd8Mnpp9q",
        "colab_type": "code",
        "cellView": "form",
        "colab": {
          "base_uri": "https://localhost:8080/",
          "height": 34
        },
        "outputId": "f3896393-10ad-468a-f874-713e350d92b7"
      },
      "source": [
        "#@markdown <h3>← 运行只需点击此处，下同\n",
        "#@markdown <br><left><img src='https://upload.wikimedia.org/wikipedia/commons/thumb/d/da/Google_Drive_logo.png/600px-Google_Drive_logo.png' height=\"50\" alt=\"Gdrive-logo\"/></left>\n",
        "#@markdown <h2>挂载谷歌云盘，并安装gd-utils\n",
        "#@markdown <h3>此处需要挂载的云盘只需存有sa.zip文件，不必与转存盘有关联\n",
        "from google.colab import drive\n",
        "from IPython.display import clear_output\n",
        "\n",
        "drive.mount('/content/drive')\n",
        "\n",
        "clear_output()\n",
        "print(\"开始安装gd-utils\")\n",
        "\n",
        "!curl -sL https://deb.nodesource.com/setup_14.x | sudo -E bash -\n",
        "clear_output()\n",
        "!sudo apt-get install -y nodejs\n",
        "clear_output()\n",
        "!git clone https://github.com/plsharevme/gd-utils\n",
        "clear_output()\n",
        "%cd /content/gd-utils\n",
        "!npm install --unsafe-perm=true --allow-root\n",
        "\n",
        "clear_output()\n",
        "print(\"安装成功，开始配置sa文件夹\")\n",
        "\n",
        "%cp /content/drive/\"My Drive\"/sa.zip /content/gd-utils\n",
        "!unzip -o -q /content/gd-utils/sa.zip -d /content/gd-utils\n",
        "\n",
        "clear_output()\n",
        "print(\"配置完成\")\n",
        "\n"
      ],
      "execution_count": 3,
      "outputs": [
        {
          "output_type": "stream",
          "text": [
            "配置完成\n"
          ],
          "name": "stdout"
        }
      ]
    },
    {
      "cell_type": "code",
      "metadata": {
        "id": "qOqqf0MVZ_u9",
        "colab_type": "code",
        "colab": {},
        "cellView": "form"
      },
      "source": [
        "#@markdown <h3>搬运区</h3>\n",
        "source = \"\" #@param {type:\"string\"}\n",
        "destination = \"\" #@param {type:\"string\"}\n",
        "\n",
        "\n",
        "print(\"-------我要开动了，GKD-------\\n-------初音祈祷中....\\n\")\n",
        "\n",
        "#!multifolderclone -s \"$source\" -d \"$destination\"\n",
        "\n",
        "!node --max-old-space-size=4096 copy \"$source\" \"$destination\"  -S\n",
        "\n",
        "\n",
        "print(\"\\n----------复制完成----------\\n\")"
      ],
      "execution_count": null,
      "outputs": []
    },
    {
      "cell_type": "code",
      "metadata": {
        "id": "GIuVg9Q7yAta",
        "colab_type": "code",
        "cellView": "form",
        "colab": {}
      },
      "source": [
        "#@markdown <h3>搬运区 [main2]</h3>\n",
        "source = \"\" #@param {type:\"string\"}\n",
        "\n",
        "print(\"-------我要开动了，GKD-------\\n-------初音祈祷中....\\n\")\n",
        "\n",
        "#!multifolderclone -s \"$source\" -d 0AHdN8CL_FZnAUk9PVA\n",
        "\n",
        "!node --max-old-space-size=4096 copy \"$source\" 0AHdN8CL_FZnAUk9PVA  -S\n",
        "\n",
        "print(\"\\n----------复制完成----------\\n\")\n"
      ],
      "execution_count": null,
      "outputs": []
    },
    {
      "cell_type": "code",
      "metadata": {
        "id": "sCDjEQ1WX4-H",
        "colab_type": "code",
        "colab": {},
        "cellView": "form"
      },
      "source": [
        "#@markdown <h3>搬运区 [xx]</h3>\n",
        "source = \"\" #@param {type:\"string\"}\n",
        "\n",
        "print(\"-------我要开动了，GKD-------\\n-------初音祈祷中....\\n\")\n",
        "\n",
        "#!multifolderclone -s \"$source\" -d 0AIWGacHmM0qUUk9PVA\n",
        "\n",
        "!node --max-old-space-size=4096 copy \"$source\" 0AIWGacHmM0qUUk9PVA -S\n",
        "\n",
        "print(\"\\n----------复制完成----------\\n\")"
      ],
      "execution_count": null,
      "outputs": []
    },
    {
      "cell_type": "code",
      "metadata": {
        "id": "koTjZMxSYF0i",
        "colab_type": "code",
        "colab": {},
        "cellView": "form"
      },
      "source": [
        "#@markdown <h3>搬运区 [Data 新]</h3>\n",
        "source = \"\" #@param {type:\"string\"}\n",
        "\n",
        "print(\"-------我要开动了，GKD-------\\n-------初音祈祷中....\\n\")\n",
        "\n",
        "#!multifolderclone -s \"$source\" -d 0AEGsVv5iyMqUUk9PVA\n",
        "\n",
        "!node --max-old-space-size=4096 copy \"$source\" 0AEGsVv5iyMqUUk9PVA -S\n",
        "\n",
        "print(\"\\n----------复制完成----------\\n\")"
      ],
      "execution_count": null,
      "outputs": []
    },
    {
      "cell_type": "code",
      "metadata": {
        "id": "c9f64DEEaHwv",
        "colab_type": "code",
        "colab": {},
        "cellView": "form"
      },
      "source": [
        "#@markdown <h3>搬运区 [教学 电子书类]</h3>\n",
        "source = \"\" #@param {type:\"string\"}\n",
        "\n",
        "print(\"-------我要开动了，GKD-------\\n-------初音祈祷中....\\n\")\n",
        "\n",
        "#!multifolderclone -s \"$source\" -d 0AC7SqC5VCWArUk9PVA\n",
        "\n",
        "!node --max-old-space-size=4096 copy \"$source\" 0AC7SqC5VCWArUk9PVA -S\n",
        "\n",
        "print(\"\\n----------复制完成----------\\n\")"
      ],
      "execution_count": null,
      "outputs": []
    },
    {
      "cell_type": "code",
      "metadata": {
        "id": "uVWTQI9bZjaF",
        "colab_type": "code",
        "cellView": "form",
        "colab": {}
      },
      "source": [
        "#@markdown <h3>统计区</h3>\n",
        "#@markdown <h4>Options 为附加命令，如常用的 -u 表示强制从线上获取信息(无视是否存在本地缓存)，可不填。</h4>\n",
        "FolderID = \"\" #@param {type:\"string\"}\n",
        "Options = \"\" #@param {type:\"string\"}\n",
        "\n",
        "\n",
        "\n",
        "\n",
        "\n",
        "print(\"-------我要开动了，GKD-------\\n-------初音祈祷中....\\n\")\n",
        "\n",
        "#!multifolderclone -s \"$source\" -d \"$destination\"\n",
        "\n",
        "!node --max-old-space-size=4096 count \"$FolderID\" \"$Options:\" -S\n",
        "\n",
        "\n",
        "print(\"\\n----------统计完成----------\\n\")"
      ],
      "execution_count": null,
      "outputs": []
    },
    {
      "cell_type": "code",
      "metadata": {
        "id": "dRaSe6ujk2RK",
        "colab_type": "code",
        "cellView": "form",
        "colab": {}
      },
      "source": [
        "#@markdown <h3>查看复制命令帮助信息</h3>\n",
        "!./copy -h"
      ],
      "execution_count": null,
      "outputs": []
    },
    {
      "cell_type": "code",
      "metadata": {
        "id": "xMtlQIu51GGT",
        "colab_type": "code",
        "cellView": "form",
        "colab": {}
      },
      "source": [
        "#@markdown <h3>查看统计命令帮助信息</h3>\n",
        "!./count -h"
      ],
      "execution_count": null,
      "outputs": []
    },
    {
      "cell_type": "code",
      "metadata": {
        "id": "lV2AFyDzReeE",
        "colab_type": "code",
        "cellView": "form",
        "colab": {}
      },
      "source": [
        "#@markdown <h3>打包sa文件夹请看向这里</h3>\n",
        "MODE = \"ZIP\"\n",
        "FILENAME = \"sa.zip\" \n",
        "PATH_TO_FILE = \"/content/drive/My Drive/sa\"\n",
        "ARCHIVE_PASSWORD = \"\"\n",
        "compress = 1\n",
        "from pathlib import PurePosixPath\n",
        "from IPython.display import clear_output\n",
        "from google.colab import drive\n",
        "drive.mount('/content/drive')\n",
        "\n",
        "pathList = PATH_TO_FILE.split('|')\n",
        "if MODE == \"ZIP\":\n",
        "    if not FILENAME:\n",
        "      FILENAME = \"/content/NEW_FILE.ZIP\"\n",
        "    if ARCHIVE_PASSWORD:\n",
        "      passADD = f'--password \"{ARCHIVE_PASSWORD}\"'\n",
        "    else:\n",
        "      passADD = ''\n",
        "    for part in pathList:\n",
        "      pathdic = PurePosixPath(part.strip())\n",
        "      parent = pathdic.parent\n",
        "      partName = pathdic.parts[-1]\n",
        "      cmd = f'cd \"{parent}\" && zip {passADD} -{compress} -v -r -u \"{FILENAME}\" \"{partName}\"'\n",
        "      !$cmd\n",
        "clear_output()\n",
        "print(\"\\n----------打包成功----------\\n\")"
      ],
      "execution_count": null,
      "outputs": []
    }
  ]
}